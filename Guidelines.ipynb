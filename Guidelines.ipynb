{
 "cells": [
  {
   "cell_type": "markdown",
   "metadata": {},
   "source": [
    "# Pep 8"
   ]
  },
  {
   "cell_type": "markdown",
   "metadata": {},
   "source": [
    "Link to pep 8 guide: https://www.python.org/dev/peps/pep-0008/"
   ]
  },
  {
   "cell_type": "markdown",
   "metadata": {},
   "source": [
    "- Lowercase letter: b.\n",
    "- Uppercase letter: B.\n",
    "- lowercase: this is all lowercase words.\n",
    "- snake case: when words are separated by underscores: lower_case_with_underscores.\n",
    "-Uppercase: All words are all uppercase letters: UPPERCASE.\n",
    "- Snake case upper case: UPPER_CASE_WITH_UNDERSCORES.\n",
    "- Name Classes Using CamelCase or CapsCase    \n",
    "- Name Variables Using snake_case And All Lower Case\n",
    "- Avoid Using Single Character Letters That Could Be Confused with Numbers\n",
    "- Python Comments Should Have a Space After the # Sign with the First Word Capitalized\n",
    " - PEP 8 guidelines suggest that each line of code (as well as comment lines) should be 79 characters wide or less. This is a common standard that is also used in other languages including R."
   ]
  },
  {
   "cell_type": "code",
   "execution_count": null,
   "metadata": {},
   "outputs": [],
   "source": []
  }
 ],
 "metadata": {
  "kernelspec": {
   "display_name": "Python 3",
   "language": "python",
   "name": "python3"
  },
  "language_info": {
   "codemirror_mode": {
    "name": "ipython",
    "version": 3
   },
   "file_extension": ".py",
   "mimetype": "text/x-python",
   "name": "python",
   "nbconvert_exporter": "python",
   "pygments_lexer": "ipython3",
   "version": "3.7.3"
  }
 },
 "nbformat": 4,
 "nbformat_minor": 2
}

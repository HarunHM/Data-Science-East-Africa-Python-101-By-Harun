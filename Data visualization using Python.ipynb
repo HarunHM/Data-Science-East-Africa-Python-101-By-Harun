{
 "cells": [
  {
   "cell_type": "markdown",
   "metadata": {},
   "source": [
    "# Data Visualization"
   ]
  },
  {
   "cell_type": "markdown",
   "metadata": {},
   "source": [
    " - It is the presentation of Data in a pictorial or graphical format"
   ]
  },
  {
   "cell_type": "markdown",
   "metadata": {},
   "source": [
    "Human Brains can process information easly when it is in a pictorial or graphical form, We use data visualization to understand trends better and make better decisions"
   ]
  },
  {
   "cell_type": "markdown",
   "metadata": {},
   "source": [
    "Data Visualizations allows us as data scientist to quickly interplate the data and adjust  different variables to see  their effects, Data visualization is part of Data Analysis."
   ]
  },
  {
   "cell_type": "markdown",
   "metadata": {},
   "source": [
    "###  Visualize data  => Analyze data => Document insights => Transform dataset"
   ]
  },
  {
   "cell_type": "markdown",
   "metadata": {},
   "source": [
    "In Python we use matplotlib and seaborn modules to do data visualization, Matplotlib is a Python package used for 2D graphics."
   ]
  },
  {
   "cell_type": "markdown",
   "metadata": {},
   "source": [
    "## Types of Plots "
   ]
  },
  {
   "cell_type": "markdown",
   "metadata": {},
   "source": [
    " - Barplot                       \n",
    " - Histogram\n",
    " - Piechart                      \n",
    " - Scatterplot\n",
    " - Areaplot                       \n",
    " - Hexagonal bin plot\n",
    " - pair plots ( from Seaborn package  ) "
   ]
  },
  {
   "cell_type": "markdown",
   "metadata": {},
   "source": [
    "#### Note:\n",
    "\n",
    "To use matplotlib  package you should have downloadede and installled it in your system "
   ]
  },
  {
   "cell_type": "code",
   "execution_count": 4,
   "metadata": {},
   "outputs": [
    {
     "data": {
      "image/png": "[encoded data removed]",
      "text/plain": [
       "<Figure size 432x288 with 1 Axes>"
      ]
     },
     "metadata": {
      "needs_background": "light"
     },
     "output_type": "display_data"
    }
   ],
   "source": [
    "#import  matplotlib package \n",
    "import matplotlib.pyplot as plt \n",
    "%matplotlib inline\n",
    "plt.plot([1,2,3,], [4,5,6])\n",
    "#Showing what we plotted\n",
    "plt.show()"
   ]
  },
  {
   "cell_type": "markdown",
   "metadata": {},
   "source": [
    "But you can add more features like labels, title , colors and key on your plot"
   ]
  },
  {
   "cell_type": "markdown",
   "metadata": {},
   "source": [
    " - .legend() adds key\n",
    " - .show()  for displaying your plot \n",
    " - .title() for adding a title on your plot\n",
    " - .ylabel for labeling y axis \n",
    " - .xlabel for labeling x axis "
   ]
  },
  {
   "cell_type": "markdown",
   "metadata": {},
   "source": [
    "### Bar chart & Bar Graph"
   ]
  },
  {
   "cell_type": "markdown",
   "metadata": {},
   "source": [
    "Bar graph are used to compare  things between different groups,  eg Distance  & Time"
   ]
  },
  {
   "cell_type": "code",
   "execution_count": 7,
   "metadata": {},
   "outputs": [
    {
     "data": {
      "image/png": "[encoded data removed]",
      "text/plain": [
       "<Figure size 432x288 with 1 Axes>"
      ]
     },
     "metadata": {
      "needs_background": "light"
     },
     "output_type": "display_data"
    }
   ],
   "source": [
    "import matplotlib.pyplot as plt\n",
    "%matplotlib inline\n",
    "distance = [1,2,3,4]\n",
    "time = [7,8,9,10]\n",
    "plt.bar(distance, time)\n",
    "plt.title(\" A bar plot of Distance & time\")\n",
    "plt.xlabel(\"Distance\")\n",
    "plt.ylabel(\"Time\")\n",
    "plt.show()"
   ]
  },
  {
   "cell_type": "markdown",
   "metadata": {},
   "source": [
    "#### A bar chart represets categorical data with rectangular bars   with heights or length proportional to values that they represent"
   ]
  },
  {
   "cell_type": "markdown",
   "metadata": {},
   "source": [
    "%matplotlib inline  - this command is very important to visualize your data in the same notebook as your code (When using conda environment )"
   ]
  },
  {
   "cell_type": "markdown",
   "metadata": {},
   "source": [
    "### HistoGraph plt.hist()"
   ]
  },
  {
   "cell_type": "markdown",
   "metadata": {},
   "source": [
    "Histogram reppresents quantatitive  variables while barplots  represents categorical variables \n",
    "\n",
    " - Try to find out the differences between quantatitive  and categorical variables"
   ]
  },
  {
   "cell_type": "code",
   "execution_count": 19,
   "metadata": {},
   "outputs": [
    {
     "data": {
      "image/png": "[encoded data removed]",
      "text/plain": [
       "<Figure size 432x288 with 1 Axes>"
      ]
     },
     "metadata": {
      "needs_background": "light"
     },
     "output_type": "display_data"
    }
   ],
   "source": [
    "import matplotlib.pyplot as plt \n",
    "%matplotlib inline\n",
    "\n",
    "population_ages = [22,30, 40, 27,90, 93,17,24,17]\n",
    "\n",
    "bins = [0,10,20,30,40,50,60,70,80,90,100,110,120]\n",
    "\n",
    "plt.hist(population_ages, bins)\n",
    "\n",
    "plt.xlabel( \"x axis \")\n",
    "plt.ylabel(\" y axis \")\n",
    "plt.title(\" A sample Histogram \")\n",
    "\n",
    "plt.show()"
   ]
  },
  {
   "cell_type": "code",
   "execution_count": null,
   "metadata": {},
   "outputs": [],
   "source": [
    "import seaborn as sns \n",
    "import pandas as pd\n",
    "data= pd.read_csv(\"Iris.cvs\")\n",
    "sns.pairplot(data)"
   ]
  },
  {
   "cell_type": "code",
   "execution_count": null,
   "metadata": {},
   "outputs": [],
   "source": []
  }
 ],
 "metadata": {
  "kernelspec": {
   "display_name": "Python 3",
   "language": "python",
   "name": "python3"
  },
  "language_info": {
   "codemirror_mode": {
    "name": "ipython",
    "version": 3
   },
   "file_extension": ".py",
   "mimetype": "text/x-python",
   "name": "python",
   "nbconvert_exporter": "python",
   "pygments_lexer": "ipython3",
   "version": "3.7.3"
  }
 },
 "nbformat": 4,
 "nbformat_minor": 2
}

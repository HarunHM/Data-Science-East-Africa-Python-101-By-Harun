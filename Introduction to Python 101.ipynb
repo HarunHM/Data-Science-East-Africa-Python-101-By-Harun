{
 "cells": [
  {
   "cell_type": "markdown",
   "metadata": {},
   "source": [
    "# Python 101 Data Science East Africa\n",
    "\n",
    "### - What is python\n",
    "\n",
    "Python is an interpreted, high-level, general-purpose programming language. Created by Guido van Rossum and first released in 1991, Python's design philosophy emphasizes code readability with its  notable use of significant whitespace. Its language constructs and object-oriented approach aim to help programmers write clear, logical code for small and large-scale projects. Python is dynamically typed and garbage-collected. It supports multiple programming paradigms, including procedural, object- oriented, and functiona l programming . Python is often described as a batteries included language due to its comprehensive standard library.\n",
    "Python is a popular programming language. It was created by Guido van Rossum, and released in 1991.\n"
   ]
  },
  {
   "cell_type": "markdown",
   "metadata": {},
   "source": [
    "### Features of Python\n",
    "    - Python is easy and simple to learn \n",
    "    - Free and open source \n",
    "    - It is a high level language \n",
    "    - platform independent "
   ]
  },
  {
   "cell_type": "markdown",
   "metadata": {},
   "source": [
    "### 4 Python programming techniques\n",
    "Python supports the following 4 programming techniques:\n",
    "     - Object oreinted.\n",
    "     - Procedural oriented \n",
    "     - functional  oriented\n",
    "     - Impreative"
   ]
  },
  {
   "cell_type": "markdown",
   "metadata": {},
   "source": [
    "### Python Variables \n",
    " Variables allows you to storea value by assigning it to a name which can be used to refer to the value later in the program"
   ]
  },
  {
   "cell_type": "code",
   "execution_count": 7,
   "metadata": {},
   "outputs": [
    {
     "name": "stdout",
     "output_type": "stream",
     "text": [
      "My name is GrayHat and am 22 years old\n"
     ]
    }
   ],
   "source": [
    "# Example\n",
    "name = \"GrayHat\" \n",
    "age = 22\n",
    "print(f\"My name is {name} and am {age} years old\")"
   ]
  },
  {
   "cell_type": "markdown",
   "metadata": {},
   "source": [
    "Strings is createfdby entering text between two single or double quatations marks "
   ]
  },
  {
   "cell_type": "code",
   "execution_count": null,
   "metadata": {},
   "outputs": [],
   "source": [
    "location = \"kenya\"\n",
    "locat = 'Nairobi'"
   ]
  },
  {
   "cell_type": "code",
   "execution_count": 8,
   "metadata": {},
   "outputs": [],
   "source": [
    "#Example\n",
    "name = \"GrayHat\""
   ]
  },
  {
   "cell_type": "markdown",
   "metadata": {},
   "source": [
    "##### Concatenation \n",
    "  - This is a process or adding strings "
   ]
  },
  {
   "cell_type": "code",
   "execution_count": 9,
   "metadata": {},
   "outputs": [
    {
     "data": {
      "text/plain": [
       "'Milk honey'"
      ]
     },
     "execution_count": 9,
     "metadata": {},
     "output_type": "execute_result"
    }
   ],
   "source": [
    "#Example:\n",
    "con = \"Milk \"  + \"honey\"\n",
    "con"
   ]
  },
  {
   "cell_type": "markdown",
   "metadata": {},
   "source": [
    "Literals - literals are data given in a variable or contant. There are 4 types of literals \n",
    "\n",
    " - String literals \n",
    " -  Numeric Literals \n",
    " - Boolean Literals\n",
    " - Special Literlas "
   ]
  },
  {
   "cell_type": "markdown",
   "metadata": {},
   "source": [
    "Boolean literlas Have only two values  true or false"
   ]
  },
  {
   "cell_type": "markdown",
   "metadata": {},
   "source": [
    "##### Special Literals  \n",
    "    -Python has only one special literal, none which is treated as null in other programming languages "
   ]
  },
  {
   "cell_type": "markdown",
   "metadata": {},
   "source": [
    "#### Functions in python \n",
    "  \n",
    "    - A function is a block of organized  re usable set of instructions that is used to perform some related task"
   ]
  },
  {
   "cell_type": "markdown",
   "metadata": {},
   "source": [
    "##### Example\n",
    "\n",
    "- If you have 16 lines of code which appears 4 times in a program, you don't have to repeate it 4 times instead you just write a function  and call it 4 times "
   ]
  },
  {
   "cell_type": "markdown",
   "metadata": {},
   "source": [
    "#### Functions enables:  \n",
    "\n",
    "- Re - usability of code which minimizes redundancy \n",
    "- Procedural decomposition makes things organized \n",
    "There are twotypes of functions in python \n",
    "\n",
    "1). User defined functions \n",
    "2). Built in functions"
   ]
  },
  {
   "cell_type": "code",
   "execution_count": 11,
   "metadata": {},
   "outputs": [
    {
     "name": "stdout",
     "output_type": "stream",
     "text": [
      "16\n"
     ]
    }
   ],
   "source": [
    "#Example 1 of a function\n",
    "def  pow(x):\n",
    "    return x*x\n",
    "print(pow(4))"
   ]
  },
  {
   "cell_type": "code",
   "execution_count": 14,
   "metadata": {},
   "outputs": [
    {
     "name": "stdout",
     "output_type": "stream",
     "text": [
      "['a', 'b', 'c']\n"
     ]
    }
   ],
   "source": [
    "#Example 2 of a function\n",
    "def my_function(y):\n",
    "    return list(dict.fromkeys(y))\n",
    "mylist = my_function([\"a\", \"b\", \"a\", \"c\",\"c\"])\n",
    "print(mylist)"
   ]
  },
  {
   "cell_type": "markdown",
   "metadata": {},
   "source": [
    "## Recursion \n",
    "Python accepts function recursion which means a defined function can call it self, It is common mathematical and programming concept, Which means a function call it self "
   ]
  },
  {
   "cell_type": "code",
   "execution_count": 19,
   "metadata": {},
   "outputs": [
    {
     "name": "stdout",
     "output_type": "stream",
     "text": [
      "3628800\n"
     ]
    }
   ],
   "source": [
    "#Example\n",
    "def fact(n):\n",
    "    if n == 0:\n",
    "        return 1\n",
    "    else:\n",
    "        return n * fact(n-1)\n",
    "print(fact(10))   "
   ]
  },
  {
   "cell_type": "markdown",
   "metadata": {},
   "source": [
    "### Python Data Structures - \n",
    "\n",
    "Data structures are specialized formats for organiziing and storing datain a program, Think of them as data with added structures.\n",
    "\n",
    "Examples are:\n",
    "\n",
    "1). List [ ] or list()\n",
    "2). tupples() \n",
    "3). Dictonary  {\"Key\" : \"value\"}\n",
    "4). Sets  { }"
   ]
  },
  {
   "cell_type": "markdown",
   "metadata": {},
   "source": [
    "list or list()"
   ]
  },
  {
   "cell_type": "code",
   "execution_count": 20,
   "metadata": {},
   "outputs": [],
   "source": [
    "todo  = [\"cook\", \"clean\" , \"code\"]\n",
    "#todo1 = list(\"cook\", \"eat\", \"code\")\n",
    "todo[0] =\"sleep\"\n",
    "todo.append(\"hike\")\n",
    "todo.remove(\"clean\")"
   ]
  },
  {
   "cell_type": "code",
   "execution_count": 21,
   "metadata": {},
   "outputs": [
    {
     "data": {
      "text/plain": [
       "['sleep', 'code', 'hike']"
      ]
     },
     "execution_count": 21,
     "metadata": {},
     "output_type": "execute_result"
    }
   ],
   "source": [
    "todo"
   ]
  },
  {
   "cell_type": "markdown",
   "metadata": {},
   "source": [
    "( )  or tuple()\n"
   ]
  },
  {
   "cell_type": "code",
   "execution_count": 22,
   "metadata": {},
   "outputs": [
    {
     "name": "stdout",
     "output_type": "stream",
     "text": [
      "freshman\n"
     ]
    }
   ],
   "source": [
    "student  = (\"freshman\", 15, 1.0)\n",
    "print(student[0])"
   ]
  },
  {
   "cell_type": "code",
   "execution_count": 24,
   "metadata": {},
   "outputs": [
    {
     "name": "stdout",
     "output_type": "stream",
     "text": [
      "(15, 1.0)\n"
     ]
    }
   ],
   "source": [
    "print(student[1:3])"
   ]
  },
  {
   "cell_type": "code",
   "execution_count": 26,
   "metadata": {},
   "outputs": [],
   "source": [
    "del student"
   ]
  },
  {
   "cell_type": "code",
   "execution_count": 28,
   "metadata": {},
   "outputs": [],
   "source": [
    "#student"
   ]
  },
  {
   "cell_type": "code",
   "execution_count": 29,
   "metadata": {},
   "outputs": [
    {
     "data": {
      "text/plain": [
       "{'name': 'Harun', 'age': 24}"
      ]
     },
     "execution_count": 29,
     "metadata": {},
     "output_type": "execute_result"
    }
   ],
   "source": [
    "me  = {\"name\":\"Harun\",  \"age\":24 }\n",
    "me"
   ]
  },
  {
   "cell_type": "code",
   "execution_count": 31,
   "metadata": {},
   "outputs": [
    {
     "data": {
      "text/plain": [
       "{'name': 'Harun'}"
      ]
     },
     "execution_count": 31,
     "metadata": {},
     "output_type": "execute_result"
    }
   ],
   "source": [
    "del me['age']\n",
    "me"
   ]
  },
  {
   "cell_type": "markdown",
   "metadata": {},
   "source": [
    "set"
   ]
  },
  {
   "cell_type": "code",
   "execution_count": 32,
   "metadata": {},
   "outputs": [
    {
     "data": {
      "text/plain": [
       "{12, 23, 45, 49, 57}"
      ]
     },
     "execution_count": 32,
     "metadata": {},
     "output_type": "execute_result"
    }
   ],
   "source": [
    "st = {12,23,12,12,23,49,45,57,45}\n",
    "st"
   ]
  },
  {
   "cell_type": "code",
   "execution_count": 33,
   "metadata": {},
   "outputs": [
    {
     "name": "stdout",
     "output_type": "stream",
     "text": [
      "2\n",
      "3\n",
      "4\n",
      "5\n",
      "87\n",
      "12\n",
      "17\n",
      "6\n"
     ]
    }
   ],
   "source": [
    "items  = [2,3,4,5,87,12, 17, 6]\n",
    "for i in items:\n",
    "    print(i)"
   ]
  },
  {
   "cell_type": "code",
   "execution_count": null,
   "metadata": {},
   "outputs": [],
   "source": []
  }
 ],
 "metadata": {
  "kernelspec": {
   "display_name": "Python 3",
   "language": "python",
   "name": "python3"
  },
  "language_info": {
   "codemirror_mode": {
    "name": "ipython",
    "version": 3
   },
   "file_extension": ".py",
   "mimetype": "text/x-python",
   "name": "python",
   "nbconvert_exporter": "python",
   "pygments_lexer": "ipython3",
   "version": "3.7.3"
  }
 },
 "nbformat": 4,
 "nbformat_minor": 2
}
